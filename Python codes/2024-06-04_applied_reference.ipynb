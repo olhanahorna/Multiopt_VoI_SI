{
 "cells": [
  {
   "cell_type": "code",
   "execution_count": 1,
   "metadata": {},
   "outputs": [],
   "source": [
    "#Code to download all needed libraries - needs to be run every time\n",
    "\n",
    "from __future__ import division #used in Python2.x so the division btw integers result in float, default in python3\n",
    "from pyomo.environ import * #library for modeling and optimisation\n",
    "import argparse\n",
    "from pyomo.opt import SolverStatus, TerminationCondition #provide status of solvers\n",
    "import pandas as pd #data manipulation library\n",
    "import numpy as np \n",
    "import pickle\n",
    "import random\n",
    "import sqlite3\n",
    "import copy\n",
    "import random\n",
    "import csv\n",
    "\n",
    "import warnings\n",
    "warnings.filterwarnings('ignore')\n",
    "\n",
    "INTEREST = 0.03 #interest rate\n",
    "\n",
    "scen = 500 #number of scenarios for stochastic optimization\n",
    "\n",
    "\n",
    "path = \"C:/VoI/\"  #specify the path to the working folder"
   ]
  },
  {
   "cell_type": "code",
   "execution_count": 52,
   "metadata": {},
   "outputs": [],
   "source": [
    "#This code adds solutions (mngt schedules) to the reference data \n",
    "\n",
    "#Adjust the paths to output files from optimization\n",
    "\n",
    "# Load the reference output file\n",
    "df1 = pd.read_csv(path+\"Outputs/Reference.csv\")\n",
    "\n",
    "# Load the outputs from other approaches\n",
    "df2 = pd.read_csv(path+\"Outputs/direct.csv\")\n",
    "\n",
    "df3 = pd.read_csv(path+\"Outputs/directDAP.csv\")\n",
    "\n",
    "df4 = pd.read_csv(path+\"Outputs/Height_dif_DAP.csv\")\n",
    "\n",
    "df5 = pd.read_csv(path+\"Outputs/Height_dif.csv\")\n",
    "\n",
    "# Extract the 'value' column that stores the decision and save to the reference file\n",
    "\n",
    "df1['value_direct'] = df2['value']\n",
    "df1['value_direct_DAP'] = df3['value']\n",
    "df1['value_height_dif_DAP'] = df4['value']\n",
    "df1['value_height_dif'] = df5['value']\n",
    "\n",
    "# Save the modified dataframe to a new csv file\n",
    "df1.to_csv((path+\"Outputs/REF_merged_target1.csv\"), index=False) #adjust the path"
   ]
  },
  {
   "cell_type": "code",
   "execution_count": 3,
   "metadata": {},
   "outputs": [],
   "source": [
    "data = pd.read_csv(path+\"Outputs/REF_merged_target1.csv\")"
   ]
  },
  {
   "cell_type": "code",
   "execution_count": 68,
   "metadata": {},
   "outputs": [
    {
     "name": "stdout",
     "output_type": "stream",
     "text": [
      "NPV\n",
      "3425628.07664735\n",
      "End volume\n",
      "18441.73190557803\n",
      "HSI\n",
      "146.90115638373834\n"
     ]
    }
   ],
   "source": [
    "#re-computing NPV, CHSI and EndVolume using reference data and decision from another model\n",
    "\n",
    "data.set_index(['id', 'branch', 'year', 'SCENARIO'], inplace=True)\n",
    "\n",
    "#replace \"value\" in the calculation with value from a needed approach:\n",
    "#value_direct\n",
    "#value_direct_DAP\n",
    "#value_height_dif_DAP\n",
    "#value_height_dif\n",
    "\n",
    "# NPV\n",
    "data['NPV_ref'] = data[data.index.get_level_values('year') == 10]['NPV'] * data['value'] * data[\"area\"]\n",
    "NPV_ref_value = data['NPV_ref'].sum() / scen\n",
    "print(\"NPV\")\n",
    "print(NPV_ref_value)\n",
    "\n",
    "#End Volume\n",
    "data['EndV_ref'] = data[data2.index.get_level_values('year') == 10]['V_end'] * data['value'] * data[\"area\"]\n",
    "EndV_ref_value = data['EndV_ref'].sum() / scen\n",
    "print(\"End volume\")\n",
    "print(EndV_ref_value)\n",
    "\n",
    "#HSI\n",
    "data[\"CHSI_ref\"] = 1 - ((1-data[\"LSWP\"])*(1-data[\"TTWP\"])*(1-data[\"LTT\"])*(1-data[\"CAP\"])*(1-data[\"HAZ\"]))\n",
    "data[\"CHSI_ref\"] = data[\"CHSI_ref\"]* data['value'] * data[\"area\"]\n",
    "HSI_ref_value = data[\"CHSI_ref\"].sum() / scen\n",
    "print(\"HSI\")\n",
    "print(HSI_ref_value)"
   ]
  },
  {
   "cell_type": "code",
   "execution_count": 71,
   "metadata": {},
   "outputs": [
    {
     "name": "stdout",
     "output_type": "stream",
     "text": [
      "CVaR_down_ref\n",
      "668822.4626395619\n"
     ]
    }
   ],
   "source": [
    "#code for CVaR down computation\n",
    "\n",
    "#value_direct\n",
    "#value_direct_DAP\n",
    "#value_height_dif_DAP\n",
    "#value_height_dif\n",
    "\n",
    "\n",
    "\n",
    "data['INC_1'] = data['INC'] * data['value_height_dif_DAP'] * data[\"area\"]\n",
    "\n",
    "total_result = 0\n",
    "tot_deviation = 0\n",
    "\n",
    "for i in range(1, 11):\n",
    "    sum_by_year_ref = data[data.index.get_level_values('year') == i].groupby('SCENARIO')['INC_1'].sum().sort_values(ascending=False)\n",
    "    #print(sum_by_year_ref)\n",
    "    tot_deviation = 0\n",
    "    for k in range (400,500): #range has to be adjusted depending on number of scenarios and confidence interval\n",
    "        deviation = 600000 - sum_by_year_ref.iloc[k]\n",
    "        \n",
    "        if deviation > 0:\n",
    "            tot_deviation += deviation \n",
    "        \n",
    "\n",
    "    result = tot_deviation * 0.01 #the constrant has to be adjusted depending on on number of scenarios\n",
    "    #print(result)\n",
    "    \n",
    "    if result > 0:\n",
    "        total_result += result\n",
    "\n",
    "CVaR_down_ref_value = total_result\n",
    "\n",
    "print(\"CVaR_down_ref\")\n",
    "print(CVaR_down_ref_value)"
   ]
  },
  {
   "cell_type": "code",
   "execution_count": 72,
   "metadata": {},
   "outputs": [
    {
     "name": "stdout",
     "output_type": "stream",
     "text": [
      "CVaR_up_ref\n",
      "0\n"
     ]
    }
   ],
   "source": [
    "#code for CVaR up computation\n",
    "\n",
    "#value_direct\n",
    "#value_direct_DAP\n",
    "#value_height_dif_DAP\n",
    "#value_height_dif\n",
    "\n",
    "\n",
    "\n",
    "data['INC_1'] = data['INC'] * data['value_height_dif_DAP'] * data[\"area\"]\n",
    "\n",
    "total_result = 0 \n",
    "tot_deviation = 0\n",
    "\n",
    "for i in range(1, 11):\n",
    "    sum_by_year_ref = data[data.index.get_level_values('year') == i].groupby('SCENARIO')['INC_1'].sum().sort_values(ascending=True)\n",
    "    tot_deviation = 0\n",
    "    for k in range (400,500): #range has to be adjusted depending on number of scenarios and confidence interval\n",
    "        deviation = 800000 - sum_by_year_ref.iloc[k]\n",
    "        \n",
    "        if deviation < 0:\n",
    "            tot_deviation += deviation \n",
    "        \n",
    "\n",
    "    result = tot_deviation * 0.01 #the constrant has to be adjusted depending on on number of scenarios\n",
    "    #print(result)\n",
    "    \n",
    "    if result < 0:\n",
    "        total_result += result\n",
    "\n",
    "CVaR_up_ref_value = - total_result\n",
    "\n",
    "print(\"CVaR_up_ref\")\n",
    "print(CVaR_up_ref_value)"
   ]
  },
  {
   "cell_type": "code",
   "execution_count": 10,
   "metadata": {},
   "outputs": [],
   "source": [
    "#Input the min and max values from the reference dataset\n",
    "\n",
    "NPV_min = 2575781.703\n",
    "NPV_max = 4463200.741\n",
    "\n",
    "HSI_min = 72.31455707\n",
    "HSI_max = 205.0860097\n",
    "\n",
    "CVAR_down_min = 0.00\n",
    "CVAR_down_max = 5974176.84\n",
    "\n",
    "CVAR_up_min = 0.00\n",
    "CVAR_up_max = 3712628.792\n",
    "\n",
    "EndVol_min = 6341.459545\n",
    "EndVol_max = 33979.00729"
   ]
  },
  {
   "cell_type": "code",
   "execution_count": 64,
   "metadata": {},
   "outputs": [],
   "source": [
    "#Input decision-makers targets\n",
    "\n",
    "NPV_target = 3000000\n",
    "CVAR_down_target = 0\n",
    "CVAR_up_target = 0\n",
    "HSI_target = 200\n",
    "EndVol_target = 23000"
   ]
  },
  {
   "cell_type": "code",
   "execution_count": 73,
   "metadata": {},
   "outputs": [
    {
     "name": "stdout",
     "output_type": "stream",
     "text": [
      "0.13616086495806068\n",
      "-0.11195223719550322\n",
      "0.0\n",
      "-0.1195803728957148\n",
      "-0.10833287185121253\n"
     ]
    }
   ],
   "source": [
    "#Code for distances from the target computation for applied output\n",
    "\n",
    "print((NPV_ref_value - NPV_target)/(NPV_max-NPV_min)) \n",
    "print((CVAR_down_target - CVaR_down_ref_value)/(CVAR_down_max - CVAR_down_min))\n",
    "print((CVAR_up_target -CVaR_up_ref_value)/(CVAR_up_max - CVAR_up_min)) \n",
    "print((HSI_ref_value - HSI_target)/(HSI_max - HSI_min)) \n",
    "print((EndV_ref_value - EndVol_target)/(EndVol_max - EndVol_min))  "
   ]
  }
 ],
 "metadata": {
  "kernelspec": {
   "display_name": "PYOMO",
   "language": "python",
   "name": "python3"
  },
  "language_info": {
   "codemirror_mode": {
    "name": "ipython",
    "version": 3
   },
   "file_extension": ".py",
   "mimetype": "text/x-python",
   "name": "python",
   "nbconvert_exporter": "python",
   "pygments_lexer": "ipython3",
   "version": "3.12.2"
  }
 },
 "nbformat": 4,
 "nbformat_minor": 2
}
